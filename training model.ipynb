{
 "cells": [
  {
   "cell_type": "code",
   "execution_count": 1,
   "metadata": {},
   "outputs": [],
   "source": [
    "import pandas as pd\n",
    "from sklearn.model_selection import train_test_split\n",
    "from sklearn.ensemble import GradientBoostingClassifier\n",
    "import pickle\n",
    "import json\n",
    "from sklearn.metrics import accuracy_score, precision_score, recall_score, f1_score"
   ]
  },
  {
   "cell_type": "code",
   "execution_count": 2,
   "metadata": {},
   "outputs": [],
   "source": [
    "# accedemos a los parametros para clasificar los distintos tipos de hp\n",
    "params = json.load(open(\"json/labelParamsHP.json\"))"
   ]
  },
  {
   "cell_type": "markdown",
   "metadata": {},
   "source": [
    "###  Choosing features :  Feature Selection"
   ]
  },
  {
   "cell_type": "code",
   "execution_count": 3,
   "metadata": {},
   "outputs": [
    {
     "data": {
      "text/plain": [
       "(1496, 5)"
      ]
     },
     "execution_count": 3,
     "metadata": {},
     "output_type": "execute_result"
    }
   ],
   "source": [
    "data= pd.read_csv(\"excel/data.csv\")\n",
    "data = data[[\"area_b\", \"n_rtu\", \"area_r\", \"perimeter\", \"hp\"]]\n",
    "data.shape"
   ]
  },
  {
   "cell_type": "code",
   "execution_count": 4,
   "metadata": {},
   "outputs": [],
   "source": [
    "data = data.dropna() # elimunamos las Filas con un NAN\n",
    "# convertimos los valores flotantes de HP a enteros\n",
    "#data['hp'] = data['hp'].astype(int)"
   ]
  },
  {
   "cell_type": "code",
   "execution_count": 5,
   "metadata": {},
   "outputs": [
    {
     "data": {
      "text/html": [
       "<div>\n",
       "<style scoped>\n",
       "    .dataframe tbody tr th:only-of-type {\n",
       "        vertical-align: middle;\n",
       "    }\n",
       "\n",
       "    .dataframe tbody tr th {\n",
       "        vertical-align: top;\n",
       "    }\n",
       "\n",
       "    .dataframe thead th {\n",
       "        text-align: right;\n",
       "    }\n",
       "</style>\n",
       "<table border=\"1\" class=\"dataframe\">\n",
       "  <thead>\n",
       "    <tr style=\"text-align: right;\">\n",
       "      <th></th>\n",
       "      <th>area_b</th>\n",
       "      <th>n_rtu</th>\n",
       "      <th>area_r</th>\n",
       "      <th>perimeter</th>\n",
       "      <th>hp</th>\n",
       "    </tr>\n",
       "  </thead>\n",
       "  <tbody>\n",
       "    <tr>\n",
       "      <th>0</th>\n",
       "      <td>11094</td>\n",
       "      <td>7</td>\n",
       "      <td>26</td>\n",
       "      <td>20</td>\n",
       "      <td>1</td>\n",
       "    </tr>\n",
       "    <tr>\n",
       "      <th>1</th>\n",
       "      <td>11094</td>\n",
       "      <td>7</td>\n",
       "      <td>27</td>\n",
       "      <td>21</td>\n",
       "      <td>1</td>\n",
       "    </tr>\n",
       "    <tr>\n",
       "      <th>2</th>\n",
       "      <td>11094</td>\n",
       "      <td>7</td>\n",
       "      <td>16</td>\n",
       "      <td>16</td>\n",
       "      <td>0</td>\n",
       "    </tr>\n",
       "    <tr>\n",
       "      <th>3</th>\n",
       "      <td>11094</td>\n",
       "      <td>7</td>\n",
       "      <td>19</td>\n",
       "      <td>17</td>\n",
       "      <td>0</td>\n",
       "    </tr>\n",
       "    <tr>\n",
       "      <th>4</th>\n",
       "      <td>11094</td>\n",
       "      <td>7</td>\n",
       "      <td>15</td>\n",
       "      <td>15</td>\n",
       "      <td>0</td>\n",
       "    </tr>\n",
       "  </tbody>\n",
       "</table>\n",
       "</div>"
      ],
      "text/plain": [
       "   area_b  n_rtu  area_r  perimeter  hp\n",
       "0   11094      7      26         20   1\n",
       "1   11094      7      27         21   1\n",
       "2   11094      7      16         16   0\n",
       "3   11094      7      19         17   0\n",
       "4   11094      7      15         15   0"
      ]
     },
     "execution_count": 5,
     "metadata": {},
     "output_type": "execute_result"
    }
   ],
   "source": [
    "data.head()"
   ]
  },
  {
   "cell_type": "markdown",
   "metadata": {},
   "source": [
    "### Select output and input variables"
   ]
  },
  {
   "cell_type": "code",
   "execution_count": 6,
   "metadata": {},
   "outputs": [],
   "source": [
    "X = data.drop('hp',axis=1)\n",
    "y = data['hp']"
   ]
  },
  {
   "cell_type": "markdown",
   "metadata": {},
   "source": [
    "### Split train and test"
   ]
  },
  {
   "cell_type": "code",
   "execution_count": 7,
   "metadata": {},
   "outputs": [],
   "source": [
    "X_train, X_test, y_train, y_test = train_test_split(X, y, test_size=0.2, random_state=42)"
   ]
  },
  {
   "cell_type": "markdown",
   "metadata": {},
   "source": [
    "### Chossing Classifier"
   ]
  },
  {
   "cell_type": "code",
   "execution_count": 8,
   "metadata": {},
   "outputs": [],
   "source": [
    "XGboosHP = GradientBoostingClassifier(\n",
    "    n_estimators=350,\n",
    "    learning_rate=0.25,\n",
    "    loss=\"deviance\",\n",
    "    criterion=\"friedman_mse\",\n",
    "    min_samples_split=2,\n",
    "    min_samples_leaf=1,\n",
    "    min_weight_fraction_leaf=0.0,\n",
    "    subsample=1.0,\n",
    "    max_features=None,\n",
    "    max_depth=4,\n",
    "    min_impurity_decrease=0.0,\n",
    "    ccp_alpha=0.0,\n",
    "    init=None,\n",
    "    random_state=42,\n",
    "    verbose=0,\n",
    "    max_leaf_nodes=None,\n",
    "    warm_start=False,\n",
    "    validation_fraction=0.1,\n",
    "    n_iter_no_change=None,\n",
    "    tol=0.0001,\n",
    "    ).fit(X_train, y_train)"
   ]
  },
  {
   "cell_type": "code",
   "execution_count": 27,
   "metadata": {},
   "outputs": [],
   "source": [
    "true = False\n",
    "\n",
    "if true:\n",
    "    # Guardar la instancia de XGboosHP en un archivo Mr Pickles\n",
    "    with open(\"model/XGboosHP_v2.pkl\", \"wb\") as f:\n",
    "        pickle.dump(XGboosHP, f)"
   ]
  },
  {
   "attachments": {},
   "cell_type": "markdown",
   "metadata": {},
   "source": [
    "una vez creado Nuestro modelo y guardado en la instancia de Mr Pickles"
   ]
  },
  {
   "cell_type": "code",
   "execution_count": 31,
   "metadata": {},
   "outputs": [],
   "source": [
    "XGboosHP_v2 = pickle.load(open(f\".\\model\\XGboosHP_v2.pkl\",\"rb\"))\n",
    "XGboosHP = pickle.load(open(f\".\\model\\hgBoostHP.pkl\",\"rb\"))"
   ]
  },
  {
   "cell_type": "code",
   "execution_count": 33,
   "metadata": {},
   "outputs": [
    {
     "name": "stdout",
     "output_type": "stream",
     "text": [
      "\n",
      "accuracy:0.81\n",
      "precision:0.8070338201826405\n",
      "recall:0.81\n",
      "f1:0.8018939818351583\n",
      "    \n"
     ]
    }
   ],
   "source": [
    "# probamos el grado de acierto de mi modelo, por que no se como pasarle los arametros que requiere, \n",
    "y_probs = XGboosHP_v2.predict_proba(X_test)\n",
    "y_predict = XGboosHP_v2.predict(X_test)\n",
    "\n",
    "\n",
    "# Calcular la exactitud (accuracy) del modelo\n",
    "accuracy = accuracy_score(y_test, y_predict)\n",
    "\n",
    "# Calcular la precisión (precision) del modelo\n",
    "precision = precision_score(y_test, y_predict, average=\"weighted\")\n",
    "\n",
    "# Calcular la sensibilidad (recall) del modelo\n",
    "recall = recall_score(y_test, y_predict, average=\"weighted\")\n",
    "\n",
    "# Calcular el F1-Score del modelo\n",
    "f1 = f1_score(y_test, y_predict, average=\"weighted\")\n",
    "\n",
    "# mostramos el resultado de acierto\n",
    "\n",
    "print(f\"\"\"\n",
    "accuracy:{accuracy}\n",
    "precision:{precision}\n",
    "recall:{recall}\n",
    "f1:{f1}\n",
    "    \"\"\")"
   ]
  }
 ],
 "metadata": {
  "kernelspec": {
   "display_name": "Python 3",
   "language": "python",
   "name": "python3"
  },
  "language_info": {
   "codemirror_mode": {
    "name": "ipython",
    "version": 3
   },
   "file_extension": ".py",
   "mimetype": "text/x-python",
   "name": "python",
   "nbconvert_exporter": "python",
   "pygments_lexer": "ipython3",
   "version": "3.9.13"
  }
 },
 "nbformat": 4,
 "nbformat_minor": 4
}
