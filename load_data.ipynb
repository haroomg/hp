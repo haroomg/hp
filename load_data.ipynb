{
 "cells": [
  {
   "attachments": {},
   "cell_type": "markdown",
   "metadata": {},
   "source": [
    "Librerias pertinentes:"
   ]
  },
  {
   "cell_type": "code",
   "execution_count": 1,
   "metadata": {},
   "outputs": [],
   "source": [
    "# import librarys\n",
    "import pandas as pd\n",
    "import numpy as np\n",
    "import matplotlib.pyplot as plt\n",
    "from pymongo import MongoClient \n",
    "import os\n",
    "from dotenv import load_dotenv\n",
    "from pymongo import MongoClient\n",
    "import configparser\n",
    "from pprint import pprint as pp\n",
    "import json\n",
    "\n",
    "# librarys ML\n",
    "from sklearn.neural_network import MLPRegressor\n",
    "import cv2"
   ]
  },
  {
   "attachments": {},
   "cell_type": "markdown",
   "metadata": {},
   "source": [
    "Conexion a la basa de datos, para extraer los Bson de MongoDB:"
   ]
  },
  {
   "cell_type": "code",
   "execution_count": 2,
   "metadata": {},
   "outputs": [],
   "source": [
    "# Connection and variables to request\n",
    "#=========== connection to mongoDB ===============#\n",
    "# Reading credentials from environment\n",
    "load_dotenv() # esto es para que pueda cargar las variables de entorno\n",
    "MONGO_USERNAME = os.environ.get(\"MONGO_USERNAME\")\n",
    "MONGO_PASSWORD = os.environ.get(\"MONGO_PASSWORD\")\n",
    "DB_Server = os.environ.get(\"DB_SERVER_IP\")\n",
    "\n",
    "# Loading the configuration\n",
    "config = configparser.ConfigParser()\n",
    "config.read('config/satConfig.ini')\n",
    "annDB = config['DBs']['annotation']\n",
    "\n",
    "# functions to make connections to MongoDB\n",
    "def open_DB():\n",
    "    client = MongoClient(host=DB_Server, port=27017, \n",
    "                            username=MONGO_USERNAME, password=MONGO_PASSWORD)\n",
    "    return(client)\n",
    "\n",
    "# Opening both database collections and creating the links to the key tables\n",
    "mongoClient = open_DB()\n",
    "dbInternal = mongoClient[annDB]\n",
    "# ==== Key Tables ====\n",
    "site_annotations = dbInternal['SiteAnnotations']\n",
    "## ================================================================= ##"
   ]
  },
  {
   "cell_type": "code",
   "execution_count": 3,
   "metadata": {},
   "outputs": [],
   "source": [
    "def getArea(Points, PixelSize): # calcula el area de un poligono\n",
    "    ''' Calculaing the physical area of a Countour'''\n",
    "    C_array = np.array(Points, dtype=int)\n",
    "    return(int(cv2.contourArea(C_array)*(PixelSize**2)))\n",
    "\n",
    "\n",
    "def getPerimeter(Points, PixelSize): # calcula el perimetro, el cual es la suma de sus lados\n",
    "    ''' Calculating the physical perimeter of a Countour'''\n",
    "    C_array = np.array(Points, dtype=int)\n",
    "    return(int(cv2.arcLength(C_array, True)*PixelSize))\n"
   ]
  },
  {
   "cell_type": "code",
   "execution_count": 4,
   "metadata": {},
   "outputs": [],
   "source": [
    "# descargamos las annotaciones conn los ides del file \"images_info.json\"\n",
    "df_info = pd.read_json(r\"config\\images_info.json\")\n",
    "annotations = []\n",
    "\n",
    "for Id, x2, y2 in zip(df_info[\"id\"], df_info[\"x\"], df_info[\"y\"]): \n",
    "    \n",
    "    annotation = site_annotations.find_one({\"id\":Id})\n",
    "    x1,y1 = annotation[\"ImageSize\"]\n",
    "    resolution = annotation[\"Resolution\"]/12\n",
    "    new_annotation = []\n",
    "    \n",
    "    for annot in annotation[\"Annotations\"]:\n",
    "        \n",
    "        points = annot[\"Points\"]\n",
    "        # new_points = [[(point[0]*2494)/2048,(point[1]*2432)/2048] for point in points]\n",
    "        new_points = [[(point[0]*x2)/x1,(point[1]*y2)/y1] for point in points]\n",
    "        \n",
    "        area = getArea(new_points, resolution)\n",
    "        perimeter = getPerimeter(new_points, resolution)\n",
    "        \n",
    "        annot[\"Attributes\"][\"area\"] = area\n",
    "        annot[\"Attributes\"][\"perimeter\"] = perimeter\n",
    "        annot[\"Points\"] = new_points\n",
    "        \n",
    "        new_annotation.append(annot)\n",
    "    \n",
    "    annotation[\"Annotations\"] = new_annotation\n",
    "    annotation[\"ImageSize\"] = [x2,y2]\n",
    "    annotations.append(annotation)"
   ]
  },
  {
   "cell_type": "code",
   "execution_count": 5,
   "metadata": {},
   "outputs": [],
   "source": [
    "# tabla para cambiar los hp\n",
    "\n",
    "classMap = {\n",
    "    # Values to change\n",
    "    \"3.7\":\"5.0\",\n",
    "    \"3.8\":\"5.0\",\n",
    "    \"2.9\": \"3.0\",\n",
    "    \"2.4\": \"3.0\",\n",
    "    \"2.2\" : \"3.0\",\n",
    "    \"1.7\" : \"2.0\",\n",
    "    # Values to leave along\n",
    "    \"3.0\" : \"3.0\",\n",
    "    \"2.0\" : \"2.0\",\n",
    "    \"5.0\" : \"5.0\",\n",
    "    \"1.0\" : \"1\",\n",
    "    \"1.5\" : \"1.5\",\n",
    "    \"7.5\" : \"7.5\",\n",
    "    \"10.0\" : \"10.0\",\n",
    "    \"0.33\" : \"0.3\",\n",
    "    \"4.9\" : \"4.9\",\n",
    "    \"0.5\" : \"0.5\",\n",
    "    \"0.75\" : \"0.75\",\n",
    "    \"4.7\" : \"4.7\",\n",
    "    \"0.3\" : \"0.3\",\n",
    "    \"15.0\" : \"15.0\",\n",
    "    \"20.0\" : \"20.0\",\n",
    "    \"40.0\" : \"40.0\"\n",
    "    }"
   ]
  },
  {
   "attachments": {},
   "cell_type": "markdown",
   "metadata": {},
   "source": [
    "Estatimacion de combinaciones para una Regresion lineal (simple o multiple):"
   ]
  },
  {
   "cell_type": "code",
   "execution_count": 14,
   "metadata": {},
   "outputs": [],
   "source": [
    "\"\"\"Estimacion del HP del RTU por su area cuadrada\"\"\"\n",
    "data = []\n",
    "for annotation in annotations:\n",
    "    id = annotation[\"id\"]\n",
    "    for annot in annotation[\"Annotations\"]:\n",
    "        if annot[\"Class\"] != \"Building\" and annot[\"Attributes\"][\"HP\"] != \"0.00\":\n",
    "            data.append({\n",
    "                # \"id\":id,\n",
    "                # \"address\" :  annotation[\"UsrAddress\"],\n",
    "                \"area\":int(annot[\"Attributes\"][\"area\"]),\n",
    "                # \"perimeter\": annot[\"Attributes\"][\"perimeter\"],\n",
    "                \"hp\":  float(classMap[str(float(annot[\"Attributes\"][\"HP\"]))])\n",
    "                # \"hp\":  float(annot[\"Attributes\"][\"HP\"])\n",
    "            })\n",
    "    \n",
    "\n",
    "# no ingresamos la data que no tenga sentido\n",
    "df = pd.DataFrame(data)\n",
    "df.to_csv(r\"excel/data1.csv\", index=False)\n",
    "\n",
    "data_test = []\n",
    "for index, dt in enumerate(data):\n",
    "    \n",
    "    if int(dt[\"area\"]) >= 10 and int(dt[\"area\"]) < 50:\n",
    "        if dt[\"hp\"] >= 0.3 and dt[\"hp\"] < 5: data_test.append(data[index])\n",
    "        \n",
    "    elif int(dt[\"area\"]) >= 50 and int(dt[\"area\"]) < 100:\n",
    "        if dt[\"hp\"] >= 5 and dt[\"hp\"] < 10:  data_test.append(data[index])\n",
    "        \n",
    "    elif int(dt[\"area\"]) >= 100:\n",
    "        if dt[\"hp\"] >= 10:  data_test.append(data[index])\n",
    "\n",
    "df_test = pd.DataFrame(data_test)\n",
    "df_test.to_csv(r\"excel/data_test.csv\", index=False)\n",
    "\n"
   ]
  },
  {
   "cell_type": "code",
   "execution_count": 6,
   "metadata": {},
   "outputs": [],
   "source": [
    "\"\"\"estimamos el Hp total por el area del edificio\"\"\"\n",
    "\n",
    "data2 = []\n",
    "for annotation in annotations:\n",
    "    hp = round(sum([float(area[\"Attributes\"][\"HP\"]) for area in annotation[\"Annotations\"] if area[\"Class\"] != \"Building\"]), 2)\n",
    "    if hp > 0:\n",
    "        data2.append({\n",
    "                \"id\" : annotation[\"id\"],\n",
    "                # \"address\" :  annotation[\"UsrAddress\"],\n",
    "                \"area_building\" : [area[\"Attributes\"][\"area\"] for area in annotation[\"Annotations\"] if area[\"Class\"] == \"Building\"][0],\n",
    "                \"area_rtu\": sum([area[\"Attributes\"][\"area\"] for area in annotation[\"Annotations\"] if area[\"Class\"] != \"Building\"]), \n",
    "                # \"perimeter_building\" : [area[\"Attributes\"][\"perimeter\"] for area in annotation[\"Annotations\"] if area[\"Class\"] == \"Building\"][0],\n",
    "                \"rtu_n\": len(annotation[\"Annotations\"])-1,\n",
    "                \"hp_list\" : [area[\"Attributes\"][\"HP\"] for area in annotation[\"Annotations\"] if area[\"Class\"] != \"Building\"],\n",
    "                \"hp\" : hp\n",
    "            })\n",
    "\n",
    "df2 = pd.DataFrame(data2)\n",
    "df2.to_csv(r\"excel/data2.csv\", index=False)"
   ]
  },
  {
   "cell_type": "code",
   "execution_count": 7,
   "metadata": {},
   "outputs": [],
   "source": [
    "\"\"\"En base al numero de RTU estimamos su HP total\"\"\"\n",
    "\n",
    "data3 = []\n",
    "for annotation in annotations:\n",
    "    hp = round(sum([float(area[\"Attributes\"][\"HP\"]) for area in annotation[\"Annotations\"] if area[\"Class\"] != \"Building\"]),2)\n",
    "    if hp > 0:\n",
    "        data3.append({\n",
    "                \"id\" : annotation[\"id\"],\n",
    "                # \"address\" :  annotation[\"UsrAddress\"],\n",
    "                \"rtu_n\": len(annotation[\"Annotations\"])-1,\n",
    "                \"hp\" : hp\n",
    "            })\n",
    "\n",
    "df3 = pd.DataFrame(data3)\n",
    "df3.to_csv(r\"excel/data3.csv\", index=False)"
   ]
  },
  {
   "attachments": {},
   "cell_type": "markdown",
   "metadata": {},
   "source": [
    "Verificasion de la fiabilidad de los datos: Para regresion lineal."
   ]
  },
  {
   "cell_type": "code",
   "execution_count": 10,
   "metadata": {},
   "outputs": [
    {
     "name": "stdout",
     "output_type": "stream",
     "text": [
      "0.8431211580316086\n"
     ]
    }
   ],
   "source": [
    "# margen de correlacion:\n",
    "area = df_test[\"area\"]\n",
    "hp = df_test[\"hp\"]\n",
    "print(np.corrcoef(area, hp)[0,1]) # margen de correlacion"
   ]
  },
  {
   "cell_type": "code",
   "execution_count": 11,
   "metadata": {},
   "outputs": [
    {
     "data": {
      "image/png": "[encoded data removed]",
      "text/plain": [
       "<Figure size 1000x800 with 1 Axes>"
      ]
     },
     "metadata": {},
     "output_type": "display_data"
    }
   ],
   "source": [
    "# diagrama de dispersion\n",
    "x = area\n",
    "y = hp\n",
    "plt.scatter(x, y)\n",
    "plt.rcParams.update({'figure.figsize':(10,8), 'figure.dpi':100})\n",
    "plt.xlabel('X - area')\n",
    "plt.ylabel('Y - HP')\n",
    "plt.show()"
   ]
  },
  {
   "attachments": {},
   "cell_type": "markdown",
   "metadata": {},
   "source": [
    "Estimacion de combinaciones para clasificacion:"
   ]
  },
  {
   "cell_type": "code",
   "execution_count": null,
   "metadata": {},
   "outputs": [],
   "source": []
  },
  {
   "attachments": {},
   "cell_type": "markdown",
   "metadata": {},
   "source": [
    "Entrenamiento del modelo:"
   ]
  },
  {
   "cell_type": "code",
   "execution_count": null,
   "metadata": {},
   "outputs": [],
   "source": [
    "x = np.array(area, dtype=int)\n",
    "y = np.array(hp, dtype=float)\n",
    "\n",
    "X=x[:,np.newaxis]\n",
    "while True:\n",
    "    from sklearn.model_selection import train_test_split\n",
    "    X_train, X_test, y_train, y_test = train_test_split(X,y)\n",
    "    mlr = MLPRegressor(solver=\"lbfgs\", alpha=1e-5, hidden_layer_sizes=(3,3), random_state=1)\n",
    "    mlr.fit(X_train, y_train)\n",
    "\n",
    "    print(mlr.score(X_train, y_train))\n",
    "    if mlr.score(X_train, y_train) >= 0.65: break"
   ]
  },
  {
   "cell_type": "code",
   "execution_count": null,
   "metadata": {},
   "outputs": [],
   "source": [
    "mlr.predict(np.array([[24]]))"
   ]
  }
 ],
 "metadata": {
  "kernelspec": {
   "display_name": "Python 3",
   "language": "python",
   "name": "python3"
  },
  "language_info": {
   "codemirror_mode": {
    "name": "ipython",
    "version": 3
   },
   "file_extension": ".py",
   "mimetype": "text/x-python",
   "name": "python",
   "nbconvert_exporter": "python",
   "pygments_lexer": "ipython3",
   "version": "3.9.13"
  },
  "orig_nbformat": 4
 },
 "nbformat": 4,
 "nbformat_minor": 2
}
