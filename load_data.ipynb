{
 "cells": [
  {
   "attachments": {},
   "cell_type": "markdown",
   "metadata": {},
   "source": [
    "Librerias pertinentes:"
   ]
  },
  {
   "cell_type": "code",
   "execution_count": 12,
   "metadata": {},
   "outputs": [],
   "source": [
    "# import librarys\n",
    "import pandas as pd\n",
    "import numpy as np\n",
    "import matplotlib.pyplot as plt\n",
    "from pymongo import MongoClient \n",
    "import os\n",
    "from dotenv import load_dotenv\n",
    "from pymongo import MongoClient\n",
    "import configparser\n",
    "from pprint import pprint as pp\n",
    "import json\n",
    "\n",
    "# librarys ML\n",
    "from sklearn.neural_network import MLPRegressor\n",
    "import cv2\n",
    "\n",
    "# para acceder al modelo de alfonso\n",
    "import pickle as pk"
   ]
  },
  {
   "attachments": {},
   "cell_type": "markdown",
   "metadata": {},
   "source": [
    "Conexion a la basa de datos, para extraer los Bson de MongoDB:"
   ]
  },
  {
   "cell_type": "code",
   "execution_count": 13,
   "metadata": {},
   "outputs": [],
   "source": [
    "# Connection and variables to request\n",
    "#=========== connection to mongoDB ===============#\n",
    "# Reading credentials from environment\n",
    "load_dotenv() # esto es para que pueda cargar las variables de entorno\n",
    "MONGO_USERNAME = os.environ.get(\"MONGO_USERNAME\")\n",
    "MONGO_PASSWORD = os.environ.get(\"MONGO_PASSWORD\")\n",
    "DB_Server = os.environ.get(\"DB_SERVER_IP\")\n",
    "\n",
    "# Loading the configuration\n",
    "config = configparser.ConfigParser()\n",
    "config.read('config/satConfig.ini')\n",
    "annDB = config['DBs']['annotation']\n",
    "\n",
    "# functions to make connections to MongoDB\n",
    "def open_DB():\n",
    "    client = MongoClient(host=DB_Server, port=27017, \n",
    "                            username=MONGO_USERNAME, password=MONGO_PASSWORD)\n",
    "    return(client)\n",
    "\n",
    "# Opening both database collections and creating the links to the key tables\n",
    "mongoClient = open_DB()\n",
    "dbInternal = mongoClient[annDB]\n",
    "# ==== Key Tables ====\n",
    "site_annotations = dbInternal['SiteAnnotations']\n",
    "## ================================================================= ##"
   ]
  },
  {
   "cell_type": "code",
   "execution_count": 14,
   "metadata": {},
   "outputs": [],
   "source": [
    "# funciones para el calculo del area y el perimetro con cv2\n",
    "def getArea(Points, PixelSize): # calcula el area de un poligono\n",
    "    ''' Calculaing the physical area of a Countour'''\n",
    "    C_array = np.array(Points, dtype=int)\n",
    "    return(int(cv2.contourArea(C_array)*(PixelSize**2)))\n",
    "\n",
    "\n",
    "def getPerimeter(Points, PixelSize): # calcula el perimetro, el cual es la suma de sus lados\n",
    "    ''' Calculating the physical perimeter of a Countour'''\n",
    "    C_array = np.array(Points, dtype=int)\n",
    "    return(int(cv2.arcLength(C_array, True)*PixelSize))\n"
   ]
  },
  {
   "cell_type": "code",
   "execution_count": 15,
   "metadata": {},
   "outputs": [],
   "source": [
    "# descargamos las annotaciones conn los ides del file \"images_info.json\"\n",
    "df_info = pd.read_json(r\"config\\images_info.json\")\n",
    "annotations = []\n",
    "\n",
    "for Id, x2, y2 in zip(df_info[\"id\"], df_info[\"x\"], df_info[\"y\"]): \n",
    "    \n",
    "    annotation = site_annotations.find_one({\"id\":Id})\n",
    "    x1,y1 = annotation[\"ImageSize\"]\n",
    "    resolution = annotation[\"Resolution\"]/12\n",
    "    new_annotation = []\n",
    "    \n",
    "    for annot in annotation[\"Annotations\"]:\n",
    "        \n",
    "        points = annot[\"Points\"]\n",
    "        # new_points = [[(point[0]*2494)/2048,(point[1]*2432)/2048] for point in points]\n",
    "        new_points = [[(point[0]*x2)/x1,(point[1]*y2)/y1] for point in points]\n",
    "        \n",
    "        area = getArea(new_points, resolution)\n",
    "        perimeter = getPerimeter(new_points, resolution)\n",
    "        \n",
    "        annot[\"Attributes\"][\"area\"] = area\n",
    "        annot[\"Attributes\"][\"perimeter\"] = perimeter\n",
    "        annot[\"Points\"] = new_points\n",
    "        \n",
    "        new_annotation.append(annot)\n",
    "    \n",
    "    annotation[\"Annotations\"] = new_annotation\n",
    "    annotation[\"ImageSize\"] = [x2,y2]\n",
    "    annotations.append(annotation)\n",
    "\n",
    "# exportamos esta data a un json file para probar el modelo de alfonso\n",
    "df_annot = pd.DataFrame(annotations)"
   ]
  },
  {
   "cell_type": "code",
   "execution_count": 16,
   "metadata": {},
   "outputs": [],
   "source": [
    "# obtenemos los parametros de los Hps\n",
    "json = json.load(open(\"json/labelParamsHP.json\", \"r\"))\n",
    "classMap2 = json[\"classMap2\"]"
   ]
  },
  {
   "attachments": {},
   "cell_type": "markdown",
   "metadata": {},
   "source": [
    "Estatimacion de combinaciones para una Regresion lineal (simple o multiple):"
   ]
  },
  {
   "cell_type": "code",
   "execution_count": 17,
   "metadata": {},
   "outputs": [],
   "source": [
    "\"\"\"Estimacion del HP del RTU por su area, el numero de rtu que hay, el area del edificio y RTU, perimetro del RTU\"\"\"\n",
    "data = []\n",
    "for annotation in annotations:\n",
    "    id = annotation[\"id\"]\n",
    "    area_b = int([float(area[\"Attributes\"][\"area\"]) for area in annotation[\"Annotations\"] if area[\"Class\"] == \"Building\"][0])\n",
    "    n_rtu = len(annotation[\"Annotations\"])-1\n",
    "    for annot in annotation[\"Annotations\"]:\n",
    "        if annot[\"Class\"] != \"Building\" and annot[\"Attributes\"][\"HP\"] != \"0.00\":\n",
    "            data.append({\n",
    "                # \"id\":id,\n",
    "                # \"address\" :  annotation[\"UsrAddress\"],\n",
    "                \"area_b\": area_b,\n",
    "                \"n_rtu\": n_rtu,\n",
    "                \"area_r\":int(annot[\"Attributes\"][\"area\"]),\n",
    "                \"perimeter\": annot[\"Attributes\"][\"perimeter\"],\n",
    "                \"hp\": classMap2[str(float(annot[\"Attributes\"][\"HP\"]))],\n",
    "                # \"hp\":  float(annot[\"Attributes\"][\"HP\"])\n",
    "            })"
   ]
  },
  {
   "cell_type": "code",
   "execution_count": 18,
   "metadata": {},
   "outputs": [
    {
     "data": {
      "text/html": [
       "<div>\n",
       "<style scoped>\n",
       "    .dataframe tbody tr th:only-of-type {\n",
       "        vertical-align: middle;\n",
       "    }\n",
       "\n",
       "    .dataframe tbody tr th {\n",
       "        vertical-align: top;\n",
       "    }\n",
       "\n",
       "    .dataframe thead th {\n",
       "        text-align: right;\n",
       "    }\n",
       "</style>\n",
       "<table border=\"1\" class=\"dataframe\">\n",
       "  <thead>\n",
       "    <tr style=\"text-align: right;\">\n",
       "      <th></th>\n",
       "      <th>area_b</th>\n",
       "      <th>n_rtu</th>\n",
       "      <th>area_r</th>\n",
       "      <th>perimeter</th>\n",
       "      <th>hp</th>\n",
       "    </tr>\n",
       "  </thead>\n",
       "  <tbody>\n",
       "    <tr>\n",
       "      <th>0</th>\n",
       "      <td>11094</td>\n",
       "      <td>7</td>\n",
       "      <td>26</td>\n",
       "      <td>20</td>\n",
       "      <td>1</td>\n",
       "    </tr>\n",
       "    <tr>\n",
       "      <th>1</th>\n",
       "      <td>11094</td>\n",
       "      <td>7</td>\n",
       "      <td>27</td>\n",
       "      <td>21</td>\n",
       "      <td>1</td>\n",
       "    </tr>\n",
       "    <tr>\n",
       "      <th>2</th>\n",
       "      <td>11094</td>\n",
       "      <td>7</td>\n",
       "      <td>16</td>\n",
       "      <td>16</td>\n",
       "      <td>0</td>\n",
       "    </tr>\n",
       "    <tr>\n",
       "      <th>3</th>\n",
       "      <td>11094</td>\n",
       "      <td>7</td>\n",
       "      <td>19</td>\n",
       "      <td>17</td>\n",
       "      <td>0</td>\n",
       "    </tr>\n",
       "    <tr>\n",
       "      <th>4</th>\n",
       "      <td>11094</td>\n",
       "      <td>7</td>\n",
       "      <td>15</td>\n",
       "      <td>15</td>\n",
       "      <td>0</td>\n",
       "    </tr>\n",
       "  </tbody>\n",
       "</table>\n",
       "</div>"
      ],
      "text/plain": [
       "   area_b  n_rtu  area_r  perimeter  hp\n",
       "0   11094      7      26         20   1\n",
       "1   11094      7      27         21   1\n",
       "2   11094      7      16         16   0\n",
       "3   11094      7      19         17   0\n",
       "4   11094      7      15         15   0"
      ]
     },
     "execution_count": 18,
     "metadata": {},
     "output_type": "execute_result"
    }
   ],
   "source": [
    "# exportamos el df\n",
    "df = pd.DataFrame(data)\n",
    "df.to_csv(\"excel/data.csv\", index=False)\n",
    "df.head()"
   ]
  }
 ],
 "metadata": {
  "kernelspec": {
   "display_name": "Python 3",
   "language": "python",
   "name": "python3"
  },
  "language_info": {
   "codemirror_mode": {
    "name": "ipython",
    "version": 3
   },
   "file_extension": ".py",
   "mimetype": "text/x-python",
   "name": "python",
   "nbconvert_exporter": "python",
   "pygments_lexer": "ipython3",
   "version": "3.9.13"
  },
  "orig_nbformat": 4
 },
 "nbformat": 4,
 "nbformat_minor": 2
}
